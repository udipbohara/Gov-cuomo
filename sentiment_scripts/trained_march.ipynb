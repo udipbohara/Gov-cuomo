{
 "cells": [
  {
   "cell_type": "code",
   "execution_count": 1,
   "metadata": {},
   "outputs": [],
   "source": [
    "import json\n",
    "import pandas as pd\n",
    "import warnings\n",
    "import matplotlib.pyplot as plt \n",
    "warnings.filterwarnings('ignore')"
   ]
  },
  {
   "cell_type": "code",
   "execution_count": 4,
   "metadata": {},
   "outputs": [],
   "source": [
    "df = pd.read_pickle(\"txt_cleaned.pkl\")"
   ]
  },
  {
   "cell_type": "code",
   "execution_count": 9,
   "metadata": {},
   "outputs": [
    {
     "name": "stdout",
     "output_type": "stream",
     "text": [
      "2020-05-29 11:28:14,586 loading file /Users/udipbohara/.flair/models/sentiment-en-mix-distillbert.pt\n"
     ]
    },
    {
     "name": "stderr",
     "output_type": "stream",
     "text": [
      "I0529 11:28:14.862906 4594826688 configuration_utils.py:285] loading configuration file https://s3.amazonaws.com/models.huggingface.co/bert/distilbert-base-uncased-config.json from cache at /Users/udipbohara/.cache/torch/transformers/a41e817d5c0743e29e86ff85edc8c257e61bc8d88e4271bb1b243b6e7614c633.8949e27aafafa845a18d98a0e3a88bc2d248bbc32a1b75947366664658f23b1c\n",
      "I0529 11:28:14.864665 4594826688 configuration_utils.py:321] Model config DistilBertConfig {\n",
      "  \"activation\": \"gelu\",\n",
      "  \"architectures\": [\n",
      "    \"DistilBertForMaskedLM\"\n",
      "  ],\n",
      "  \"attention_dropout\": 0.1,\n",
      "  \"dim\": 768,\n",
      "  \"dropout\": 0.1,\n",
      "  \"hidden_dim\": 3072,\n",
      "  \"initializer_range\": 0.02,\n",
      "  \"max_position_embeddings\": 512,\n",
      "  \"model_type\": \"distilbert\",\n",
      "  \"n_heads\": 12,\n",
      "  \"n_layers\": 6,\n",
      "  \"pad_token_id\": 0,\n",
      "  \"qa_dropout\": 0.1,\n",
      "  \"seq_classif_dropout\": 0.2,\n",
      "  \"sinusoidal_pos_embds\": false,\n",
      "  \"tie_weights_\": true,\n",
      "  \"vocab_size\": 30522\n",
      "}\n",
      "\n",
      "I0529 11:28:15.068539 4594826688 tokenization_utils.py:1015] loading file https://s3.amazonaws.com/models.huggingface.co/bert/bert-base-uncased-vocab.txt from cache at /Users/udipbohara/.cache/torch/transformers/26bc1ad6c0ac742e9b52263248f6d0f00068293b33709fae12320c0e35ccfbbb.542ce4285a40d23a559526243235df47c5f75c197f04f37d1a0c124c32c9a084\n"
     ]
    },
    {
     "name": "stdout",
     "output_type": "stream",
     "text": [
      "[POSITIVE (0.9997)]\n"
     ]
    }
   ],
   "source": [
    "from flair.models import TextClassifier\n",
    "from flair.data import Sentence\n",
    "\n",
    "tagger = TextClassifier.load('sentiment')\n",
    "\n",
    "sentence = Sentence('Cuomo is doing the best he can!')\n",
    "\n",
    "tagger.predict(sentence)\n",
    "\n",
    "print(sentence.labels)"
   ]
  },
  {
   "cell_type": "code",
   "execution_count": 19,
   "metadata": {},
   "outputs": [
    {
     "data": {
      "text/plain": [
       "POSITIVE (0.9997)"
      ]
     },
     "execution_count": 19,
     "metadata": {},
     "output_type": "execute_result"
    }
   ],
   "source": [
    "sentence.labels[0]"
   ]
  },
  {
   "cell_type": "code",
   "execution_count": 11,
   "metadata": {},
   "outputs": [],
   "source": [
    "sample_df = df[:20]"
   ]
  },
  {
   "cell_type": "code",
   "execution_count": 90,
   "metadata": {},
   "outputs": [],
   "source": [
    "value = []\n",
    "score = []\n",
    "sentiments = []\n",
    "for texts in df.processed_text:\n",
    "    sentence = Sentence(texts)\n",
    "    tagger.predict(sentence)\n",
    "    value.append(sentence.labels[0].value)\n",
    "    score.append(sentence.labels[0].score)\n",
    "    sentiments.append(sentence.labels)"
   ]
  },
  {
   "cell_type": "code",
   "execution_count": 91,
   "metadata": {},
   "outputs": [],
   "source": [
    "df['sentiment_value'] = value\n",
    "df['score'] = score \n",
    "df['sentiments'] = sentiments"
   ]
  },
  {
   "cell_type": "code",
   "execution_count": 93,
   "metadata": {},
   "outputs": [],
   "source": [
    "df.to_pickle('march_trained.pkl')"
   ]
  },
  {
   "cell_type": "code",
   "execution_count": 95,
   "metadata": {},
   "outputs": [
    {
     "data": {
      "text/plain": [
       "NEGATIVE    60398\n",
       "POSITIVE    42847\n",
       "Name: sentiment_value, dtype: int64"
      ]
     },
     "execution_count": 95,
     "metadata": {},
     "output_type": "execute_result"
    }
   ],
   "source": [
    "df.sentiment_value.value_counts() "
   ]
  },
  {
   "cell_type": "code",
   "execution_count": 84,
   "metadata": {},
   "outputs": [
    {
     "ename": "AttributeError",
     "evalue": "'list' object has no attribute 'value'",
     "output_type": "error",
     "traceback": [
      "\u001b[0;31m---------------------------------------------------------------------------\u001b[0m",
      "\u001b[0;31mAttributeError\u001b[0m                            Traceback (most recent call last)",
      "\u001b[0;32m<ipython-input-84-3ce24df8e471>\u001b[0m in \u001b[0;36m<module>\u001b[0;34m\u001b[0m\n\u001b[0;32m----> 1\u001b[0;31m \u001b[0msentence\u001b[0m\u001b[0;34m.\u001b[0m\u001b[0mlabels\u001b[0m\u001b[0;34m.\u001b[0m\u001b[0mvalue\u001b[0m\u001b[0;34m\u001b[0m\u001b[0;34m\u001b[0m\u001b[0m\n\u001b[0m\u001b[1;32m      2\u001b[0m \u001b[0msentence\u001b[0m\u001b[0;34m.\u001b[0m\u001b[0mlabels\u001b[0m\u001b[0;34m[\u001b[0m\u001b[0;36m0\u001b[0m\u001b[0;34m]\u001b[0m\u001b[0;34m.\u001b[0m\u001b[0mscore\u001b[0m\u001b[0;34m\u001b[0m\u001b[0;34m\u001b[0m\u001b[0m\n",
      "\u001b[0;31mAttributeError\u001b[0m: 'list' object has no attribute 'value'"
     ]
    }
   ],
   "source": [
    "sentence.labels[0].value\n",
    "sentence.labels[0].score"
   ]
  },
  {
   "cell_type": "code",
   "execution_count": 61,
   "metadata": {},
   "outputs": [
    {
     "data": {
      "text/plain": [
       "array(['gay leaders cried betrayal when new york governor mario cuomo watered down his long awaited executive order banning antigay discrimination november 1983',\n",
       "       'fuck you nygovcuomo',\n",
       "       'new album i have a girlfriend drums pee  please die antwoord dick weezer blue album more like critically acclaimed cuomo art gallagher what the heck is museslahs',\n",
       "       'new album homosexual leopard print pee  mucore shut up matt stop weezer blue album more like critically acclaimed cuomo art lynch the gallaghers',\n",
       "       'list of childhood crushes extremely revealingvegas elvisjoey ramonerivers cuomo blue album',\n",
       "       'wondering how much ny has lost so far in cashless tollsnygovcuomo',\n",
       "       'never music gay fashion  please rats everywhere you look i weezer blue album more like critically acclaimed cuomo art albarn ate my best friend',\n",
       "       'sick of people asking my thoughts on nygovcuomo  realdonaldtrump want my thoughts theyre both the same wannabe gangsters full of bluster election night 2016 i remember thinking good now congress can see what weve had to deal with in ny since 2011',\n",
       "       'muse stop calling me gay beans   rap roses are brown violets are brown i pooed in my neighbors garden a weezer blue album more like critically acclaimed cuomo art',\n",
       "       'realize your ideals you are not a wimpcuomo',\n",
       "       'gov cuomo says trump will get dmv info on illegal aliens over his dead body sounds good to me',\n",
       "       'gov cuomo announces islanders will play like shit at nassau full time next year',\n",
       "       'breaking cuomo new york to soon have federally approved coronavirus test covid2019',\n",
       "       'rivers cuomo  down here',\n",
       "       'cleared incident on i95newenglandthruway nb from after exit 21 i95  white plains  governor mario m cuomo bridge i287 to exit',\n",
       "       'cleared incident on i95newenglandthruway nb from after exit 21 i95  white plains  governor mario m cuomo bridge i287 to exit',\n",
       "       'nygovcuomo how are we supposed to deep condition our hair now',\n",
       "       'muse hendrix cheese pee  please i am not gay i wish kurt cobain shot me instead weezer blue album more like critically acclaimed cuomo art',\n",
       "       'another carriage horse abused and killed in nyc and neither of you do anything to stop this horror nygovcuomo nycmayor newyorkstateag',\n",
       "       'prosecutorial misconduct must be stoppedinnocent lives are being destroyed w their threats unethical tactics misconduct abuse of powerprocess t victims will not speak out for fear of retaliation  i will no longer remain silent nygovcuomo mmflint realdonaldtrump'],\n",
       "      dtype=object)"
      ]
     },
     "execution_count": 61,
     "metadata": {},
     "output_type": "execute_result"
    }
   ],
   "source": [
    "sample_df.processed_text.values"
   ]
  },
  {
   "cell_type": "code",
   "execution_count": 70,
   "metadata": {},
   "outputs": [
    {
     "data": {
      "text/html": [
       "<div>\n",
       "<style scoped>\n",
       "    .dataframe tbody tr th:only-of-type {\n",
       "        vertical-align: middle;\n",
       "    }\n",
       "\n",
       "    .dataframe tbody tr th {\n",
       "        vertical-align: top;\n",
       "    }\n",
       "\n",
       "    .dataframe thead th {\n",
       "        text-align: right;\n",
       "    }\n",
       "</style>\n",
       "<table border=\"1\" class=\"dataframe\">\n",
       "  <thead>\n",
       "    <tr style=\"text-align: right;\">\n",
       "      <th></th>\n",
       "      <th>has_media</th>\n",
       "      <th>hashtags</th>\n",
       "      <th>img_urls</th>\n",
       "      <th>is_replied</th>\n",
       "      <th>is_reply_to</th>\n",
       "      <th>likes</th>\n",
       "      <th>links</th>\n",
       "      <th>parent_tweet_id</th>\n",
       "      <th>replies</th>\n",
       "      <th>reply_to_users</th>\n",
       "      <th>...</th>\n",
       "      <th>text</th>\n",
       "      <th>text_html</th>\n",
       "      <th>timestamp</th>\n",
       "      <th>timestamp_epochs</th>\n",
       "      <th>tweet_id</th>\n",
       "      <th>tweet_url</th>\n",
       "      <th>user_id</th>\n",
       "      <th>username</th>\n",
       "      <th>video_url</th>\n",
       "      <th>processed_text</th>\n",
       "    </tr>\n",
       "  </thead>\n",
       "  <tbody>\n",
       "    <tr>\n",
       "      <th>89754</th>\n",
       "      <td>False</td>\n",
       "      <td>[I95NewEnglandThruway]</td>\n",
       "      <td>[]</td>\n",
       "      <td>False</td>\n",
       "      <td>False</td>\n",
       "      <td>0</td>\n",
       "      <td>[]</td>\n",
       "      <td></td>\n",
       "      <td>0</td>\n",
       "      <td>[]</td>\n",
       "      <td>...</td>\n",
       "      <td>Cleared: Incident on #I95NewEnglandThruway NB ...</td>\n",
       "      <td>&lt;p class=\"TweetTextSize js-tweet-text tweet-te...</td>\n",
       "      <td>2020-03-01 03:59:10</td>\n",
       "      <td>2020-03-01 03:59:10</td>\n",
       "      <td>1233964974260748288</td>\n",
       "      <td>/511NY/status/1233964974260748288</td>\n",
       "      <td>50706690</td>\n",
       "      <td>511 New York</td>\n",
       "      <td></td>\n",
       "      <td>cleared incident on i95newenglandthruway nb fr...</td>\n",
       "    </tr>\n",
       "    <tr>\n",
       "      <th>89753</th>\n",
       "      <td>False</td>\n",
       "      <td>[I95NewEnglandThruway]</td>\n",
       "      <td>[]</td>\n",
       "      <td>False</td>\n",
       "      <td>False</td>\n",
       "      <td>0</td>\n",
       "      <td>[]</td>\n",
       "      <td></td>\n",
       "      <td>0</td>\n",
       "      <td>[]</td>\n",
       "      <td>...</td>\n",
       "      <td>Cleared: Incident on #I95NewEnglandThruway NB ...</td>\n",
       "      <td>&lt;p class=\"TweetTextSize js-tweet-text tweet-te...</td>\n",
       "      <td>2020-03-01 03:59:10</td>\n",
       "      <td>2020-03-01 03:59:10</td>\n",
       "      <td>1233964974273449984</td>\n",
       "      <td>/511NYMidHudson/status/1233964974273449984</td>\n",
       "      <td>50728535</td>\n",
       "      <td>511NYMidHudson</td>\n",
       "      <td></td>\n",
       "      <td>cleared incident on i95newenglandthruway nb fr...</td>\n",
       "    </tr>\n",
       "  </tbody>\n",
       "</table>\n",
       "<p>2 rows × 22 columns</p>\n",
       "</div>"
      ],
      "text/plain": [
       "       has_media                hashtags img_urls  is_replied  is_reply_to  \\\n",
       "89754      False  [I95NewEnglandThruway]       []       False        False   \n",
       "89753      False  [I95NewEnglandThruway]       []       False        False   \n",
       "\n",
       "       likes links parent_tweet_id  replies reply_to_users  ...  \\\n",
       "89754      0    []                        0             []  ...   \n",
       "89753      0    []                        0             []  ...   \n",
       "\n",
       "                                                    text  \\\n",
       "89754  Cleared: Incident on #I95NewEnglandThruway NB ...   \n",
       "89753  Cleared: Incident on #I95NewEnglandThruway NB ...   \n",
       "\n",
       "                                               text_html           timestamp  \\\n",
       "89754  <p class=\"TweetTextSize js-tweet-text tweet-te... 2020-03-01 03:59:10   \n",
       "89753  <p class=\"TweetTextSize js-tweet-text tweet-te... 2020-03-01 03:59:10   \n",
       "\n",
       "         timestamp_epochs             tweet_id  \\\n",
       "89754 2020-03-01 03:59:10  1233964974260748288   \n",
       "89753 2020-03-01 03:59:10  1233964974273449984   \n",
       "\n",
       "                                        tweet_url   user_id        username  \\\n",
       "89754           /511NY/status/1233964974260748288  50706690    511 New York   \n",
       "89753  /511NYMidHudson/status/1233964974273449984  50728535  511NYMidHudson   \n",
       "\n",
       "      video_url                                     processed_text  \n",
       "89754            cleared incident on i95newenglandthruway nb fr...  \n",
       "89753            cleared incident on i95newenglandthruway nb fr...  \n",
       "\n",
       "[2 rows x 22 columns]"
      ]
     },
     "execution_count": 70,
     "metadata": {},
     "output_type": "execute_result"
    }
   ],
   "source": [
    "sample_df[sample_df.processed_text.str.contains(\"mario m cuomo\") &\n",
    "         ~sample_df.processed_text.str.contains(\"cow\")]"
   ]
  },
  {
   "cell_type": "code",
   "execution_count": null,
   "metadata": {},
   "outputs": [],
   "source": []
  }
 ],
 "metadata": {
  "kernelspec": {
   "display_name": "Python 3.7.2 64-bit",
   "language": "python",
   "name": "python37264bit726ecccd807d402aa3c12d5f22ba4519"
  },
  "language_info": {
   "codemirror_mode": {
    "name": "ipython",
    "version": 3
   },
   "file_extension": ".py",
   "mimetype": "text/x-python",
   "name": "python",
   "nbconvert_exporter": "python",
   "pygments_lexer": "ipython3",
   "version": "3.7.2"
  }
 },
 "nbformat": 4,
 "nbformat_minor": 2
}
